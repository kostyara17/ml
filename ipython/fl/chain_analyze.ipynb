{
 "metadata": {
  "name": "",
  "signature": "sha256:305633a4a36f591e25ba6e34e974d5641066e3cfc3739778ec89219990d9a89c"
 },
 "nbformat": 3,
 "nbformat_minor": 0,
 "worksheets": [
  {
   "cells": [
    {
     "cell_type": "code",
     "collapsed": false,
     "input": [
      "%pylab inline\n",
      "import seaborn as sns\n",
      "import sys\n",
      "import os\n",
      "import json\n",
      "import pylab as plt\n",
      "import numpy as np\n",
      "import math\n",
      "from collections import Counter"
     ],
     "language": "python",
     "metadata": {},
     "outputs": [
      {
       "output_type": "stream",
       "stream": "stdout",
       "text": [
        "Populating the interactive namespace from numpy and matplotlib\n"
       ]
      },
      {
       "output_type": "stream",
       "stream": "stderr",
       "text": [
        "WARNING: pylab import has clobbered these variables: ['f', 'plt']\n",
        "`%matplotlib` prevents importing * from pylab and numpy\n"
       ]
      }
     ],
     "prompt_number": 15
    },
    {
     "cell_type": "code",
     "collapsed": false,
     "input": [
      "data = []\n",
      "fname = 'examples'\n",
      "with open(fname, 'r') as f:\n",
      "    for row in f:\n",
      "        classvar, _, result = row.strip().partition('\\t')\n",
      "        result = json.loads(result)\n",
      "        data.append([str(classvar), result])\n",
      "\n",
      "limit = len(data) / 2\n",
      "chains = set([x[0] for x in data])"
     ],
     "language": "python",
     "metadata": {},
     "outputs": [],
     "prompt_number": 2
    },
    {
     "cell_type": "code",
     "collapsed": false,
     "input": [
      "def analyze_chain(data, chain):\n",
      "    probs = [ai_decision[chain] for _, ai_decision in data]\n",
      "    plt.hist(probs)\n",
      "    plt.title('Chain %s probabilities distribution' % chain)\n",
      "    plt.show()"
     ],
     "language": "python",
     "metadata": {},
     "outputs": [],
     "prompt_number": 15
    },
    {
     "cell_type": "code",
     "collapsed": false,
     "input": [
      "chains_counter = Counter()\n",
      "for chain, _ in data:\n",
      "    chains_counter[chain] += 1\n",
      "print chains_counter\n",
      "\n",
      "x_y = [(x, y) for x, y in chains_counter.items()]\n",
      "x_y = sorted(x_y, key=lambda x: -x[1])\n",
      "y = [x[1] for x in x_y]\n",
      "names = [x[0] for x in x_y]\n",
      "\n",
      "\n",
      "fig = plt.figure(figsize=(16, 9), dpi=100)\n",
      "ax = plt.subplot(111)\n",
      "width=1.0\n",
      "bins = map(lambda x: x-width/2, range(1,len(y)+1))\n",
      "print bins\n",
      "ax.bar(bins, y, width=width)\n",
      "ax.set_xticks(map(lambda x: x, range(1,len(y)+1)))\n",
      "ax.set_xticklabels(names,rotation=45)\n",
      "\n",
      "plt.show()\n",
      "\n"
     ],
     "language": "python",
     "metadata": {},
     "outputs": [
      {
       "output_type": "stream",
       "stream": "stdout",
       "text": [
        "Counter({'0': 21644, '60': 17357, '115': 14387, '24': 8065, '45': 4622, '120': 4179, '1154': 3645, '121': 3481, '145': 2963, '113': 2521, '35': 2175, '34': 1881, '73': 1648, '143': 1642, '118': 1433, '153': 1122, '46': 1046, '71': 926, '169': 814, '176': 787, '64': 686, '31': 571, '137': 565, '27': 535, '123': 522, '16': 329, '470': 243, '436': 211})\n",
        "[0.5, 1.5, 2.5, 3.5, 4.5, 5.5, 6.5, 7.5, 8.5, 9.5, 10.5, 11.5, 12.5, 13.5, 14.5, 15.5, 16.5, 17.5, 18.5, 19.5, 20.5, 21.5, 22.5, 23.5, 24.5, 25.5, 26.5, 27.5]"
       ]
      },
      {
       "output_type": "stream",
       "stream": "stdout",
       "text": [
        "\n"
       ]
      },
      {
       "metadata": {},
       "output_type": "display_data",
       "png": "[encoded data removed]",
       "text": [
        "<matplotlib.figure.Figure at 0x7fab395c8d90>"
       ]
      }
     ],
     "prompt_number": 23
    }
   ],
   "metadata": {}
  }
 ]
}