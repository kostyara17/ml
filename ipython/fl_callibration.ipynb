{
 "metadata": {
  "name": "",
  "signature": "sha256:d9bf30e2d884107752bd33dd317e315168415a894aa760c40db174dc949da9f6"
 },
 "nbformat": 3,
 "nbformat_minor": 0,
 "worksheets": [
  {
   "cells": [
    {
     "cell_type": "code",
     "collapsed": false,
     "input": [
      "%pylab inline\n",
      "import sys\n",
      "import os\n",
      "import json\n",
      "import pylab as plt\n",
      "import numpy as np\n",
      "import math\n",
      "import itertools as it\n",
      "from sklearn.linear_model import LogisticRegression as LR\n",
      "from sklearn.isotonic import IsotonicRegression as IR"
     ],
     "language": "python",
     "metadata": {},
     "outputs": [
      {
       "output_type": "stream",
       "stream": "stdout",
       "text": [
        "Populating the interactive namespace from numpy and matplotlib\n"
       ]
      },
      {
       "output_type": "stream",
       "stream": "stderr",
       "text": [
        "WARNING: pylab import has clobbered these variables: ['plt', 'f']\n",
        "`%matplotlib` prevents importing * from pylab and numpy\n"
       ]
      }
     ],
     "prompt_number": 62
    },
    {
     "cell_type": "code",
     "collapsed": false,
     "input": [
      "data = []\n",
      "fname = 'examples'\n",
      "with open(fname, 'r') as f:\n",
      "    for row in f:\n",
      "        classvar, _, result = row.strip().partition('\\t')\n",
      "        result = json.loads(result)\n",
      "        data.append([str(classvar), result])\n",
      "\n",
      "limit = len(data) / 2        \n",
      "data_test = data[limit:]\n",
      "data_train = data[:limit]\n",
      "chains = set([x[0] for x in data])\n",
      "print chains"
     ],
     "language": "python",
     "metadata": {},
     "outputs": [
      {
       "output_type": "stream",
       "stream": "stdout",
       "text": [
        "set(['153', '115', '64', '113', '176', '118', '24', '27', '46', '45', '0', '145', '143', '1154', '120', '121', '123', '73', '169', '71', '60', '16', '31', '35', '34', '470', '436', '137'])\n"
       ]
      }
     ],
     "prompt_number": 63
    },
    {
     "cell_type": "code",
     "collapsed": false,
     "input": [
      "n = 5\n",
      "my_step = 1. / n\n",
      "modify_probs = {}\n",
      "to_draw = False\n",
      "\n",
      "for chain in chains:\n",
      "\n",
      "    labels = []\n",
      "    probs = []\n",
      "\n",
      "    bucket_labels = [[] for _ in xrange(n)]\n",
      "    bucket_probs = [[] for _ in xrange(n)]\n",
      "\n",
      "    for classvar, ai_decision in data_train:\n",
      "        label = 1 if classvar == chain else 0\n",
      "        prob = ai_decision[chain]\n",
      "        bucket_id = int(math.floor(prob / my_step))\n",
      "        if bucket_id == n:\n",
      "            bucket_id = n - 1\n",
      "        bucket_labels[bucket_id].append(label)\n",
      "        bucket_probs[bucket_id].append(prob)\n",
      "        labels.append(label)\n",
      "        probs.append(prob)\n",
      "\n",
      "    x = [0]*n\n",
      "    y = [0]*n\n",
      "    for i in xrange(n):\n",
      "        x[i] = sum(bucket_probs[i]) / float(len(bucket_probs[i]))\n",
      "        y[i] = sum(bucket_labels[i]) / float(len(bucket_labels[i]))\n",
      "\n",
      "    if to_draw:\n",
      "        plt.scatter(x, y)\n",
      "        plt.plot( np.linspace( 0, 1 ), np.linspace( 0, 1 ), 'gray')\n",
      "        plt.xlim([0, 1])\n",
      "        plt.xlabel('Mean predicted value')\n",
      "        plt.ylabel('True positive fraction')\n",
      "        plt.ylim([0, 1])\n",
      "        plt.title('Chain: %s' % chain)\n",
      "        plt.show()\n",
      "\n",
      "\n",
      "    ir = IR(out_of_bounds = 'clip')\n",
      "    ir.fit(probs, labels)\n",
      "\n",
      "    probs = []\n",
      "    labels = []\n",
      "    for classvar, ai_decision in data_test:\n",
      "        label = 1 if classvar == chain else 0\n",
      "        prob = ai_decision[chain]\n",
      "        probs.append(prob)\n",
      "        labels.append(label)\n",
      "    p_calibrated = ir.transform(probs)\n",
      "\n",
      "    calibrated_probs = [[] for _ in xrange(n)]\n",
      "    bucket_labels = [[] for _ in xrange(n)]\n",
      "    for prob, label in it.izip(p_calibrated, labels):\n",
      "        bucket_id = int(math.floor(prob / my_step))\n",
      "        if bucket_id == n:\n",
      "            bucket_id = n - 1\n",
      "        calibrated_probs[bucket_id].append(prob)\n",
      "        bucket_labels[bucket_id].append(label)\n",
      "    modify_probs[chain] = p_calibrated\n",
      "    x = [0]*n\n",
      "    y = [0]*n\n",
      "    for i in xrange(n):\n",
      "        x[i] = sum(calibrated_probs[i]) / float(len(calibrated_probs[i]))\n",
      "        y[i] = sum(bucket_labels[i]) / float(len(bucket_labels[i]))\n",
      "\n",
      "    if to_draw:\n",
      "        plt.scatter(x, y)\n",
      "        plt.plot( np.linspace( 0, 1 ), np.linspace( 0, 1 ), 'gray' )\n",
      "        plt.xlim([0, 1])\n",
      "        plt.xlabel('Mean predicted value')\n",
      "        plt.ylabel('True positive fraction')\n",
      "        plt.ylim([0, 1])\n",
      "        plt.show()\n",
      "\n",
      "data_test_modify = []\n",
      "for i, (classvar, _) in enumerate(data_test):\n",
      "    ai_dec = {chain: modify_probs[chain][i] for chain in chains}\n",
      "    data_test_modify.append((classvar, ai_dec))"
     ],
     "language": "python",
     "metadata": {},
     "outputs": [],
     "prompt_number": 64
    },
    {
     "cell_type": "code",
     "collapsed": false,
     "input": [
      "def stat(data, depth=4, header='Before', min_thr=0, except_elements=[]):\n",
      "    top = {i:[0,0] for i in range(1, depth+1)}\n",
      "    error = {i:0 for i in range(1, depth+1)}\n",
      "    classified = 0\n",
      "    for analyst_decision, ai_decision in data:\n",
      "        ai_decision = [(str(k), v) for k, v in ai_decision.items()]\n",
      "        ai_decision = sorted(ai_decision, key=lambda x: -x[1])\n",
      "        if ai_decision[0][1] > min_thr and ai_decision[0][0] not in except_elements:\n",
      "            ai_decision = [x[0] for x in ai_decision]\n",
      "            classified += 1\n",
      "            for level, result in top.items():\n",
      "                if analyst_decision in ai_decision[:level]:\n",
      "                    top[level][0] += 1\n",
      "                else:\n",
      "                    top[level][1] += 1\n",
      "\n",
      "    for level, result in top.items():\n",
      "        right, wrong = result\n",
      "        wrong_classified_percent = float(100 * wrong) / (right + wrong) if (right + wrong) else 0\n",
      "        error[level] = wrong_classified_percent\n",
      "\n",
      "    info = \"\\n%s classified: %s\\n\" % (header, classified)\n",
      "    for level, wrong_classified_percent in error.items():\n",
      "        info += '\\t%s prompt wrong: %5.2f\\n' % (level, wrong_classified_percent)\n",
      "    print info\n"
     ],
     "language": "python",
     "metadata": {},
     "outputs": [],
     "prompt_number": 91
    },
    {
     "cell_type": "code",
     "collapsed": false,
     "input": [
      "stat(data_test, header='Analyst prompt before callibration', min_thr=0.0)\n",
      "stat(data_test_modify, header='Analyst prompt after callibration', min_thr=0.1)"
     ],
     "language": "python",
     "metadata": {},
     "outputs": [
      {
       "output_type": "stream",
       "stream": "stdout",
       "text": [
        "\n",
        "Analyst prompt before callibration classified: 25000\n",
        "\t1 prompt wrong: 33.03\n",
        "\t2 prompt wrong: 21.34\n",
        "\t3 prompt wrong: 14.72\n",
        "\t4 prompt wrong: 10.52\n",
        "\n",
        "\n",
        "Analyst prompt after callibration classified: 24982\n",
        "\t1 prompt wrong: 32.56\n",
        "\t2 prompt wrong: 19.77\n",
        "\t3 prompt wrong: 13.44\n",
        "\t4 prompt wrong:  9.07\n"
       ]
      },
      {
       "output_type": "stream",
       "stream": "stdout",
       "text": [
        "\n"
       ]
      }
     ],
     "prompt_number": 92
    },
    {
     "cell_type": "code",
     "collapsed": false,
     "input": [
      "except_elements = ['0']\n",
      "stat(data_test, header='User prompt before callibration', min_thr=0.5, except_elements=except_elements)\n",
      "stat(data_test_modify, header='User prompt after callibration', min_thr=0.6, except_elements=except_elements)"
     ],
     "language": "python",
     "metadata": {},
     "outputs": [
      {
       "output_type": "stream",
       "stream": "stdout",
       "text": [
        "\n",
        "User prompt before callibration classified: 12665\n",
        "\t1 prompt wrong: 16.47\n",
        "\t2 prompt wrong:  9.82\n",
        "\t3 prompt wrong:  5.38\n",
        "\t4 prompt wrong:  2.59\n",
        "\n",
        "\n",
        "User prompt after callibration classified: 12522\n",
        "\t1 prompt wrong: 15.37\n",
        "\t2 prompt wrong:  8.42\n",
        "\t3 prompt wrong:  4.50\n",
        "\t4 prompt wrong:  1.52\n"
       ]
      },
      {
       "output_type": "stream",
       "stream": "stdout",
       "text": [
        "\n"
       ]
      }
     ],
     "prompt_number": 93
    }
   ],
   "metadata": {}
  }
 ]
}